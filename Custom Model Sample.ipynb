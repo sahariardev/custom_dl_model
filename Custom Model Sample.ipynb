{
 "cells": [
  {
   "cell_type": "code",
   "execution_count": 3,
   "metadata": {},
   "outputs": [],
   "source": [
    "import tensorflow as tf\n",
    "from tensorflow.keras.layers import MaxPooling2D\n",
    "from tensorflow.keras.layers import Conv2D\n",
    "from tensorflow.keras.layers import Activation\n",
    "from tensorflow.keras.layers import Flatten\n",
    "from tensorflow.keras.layers import Dense\n",
    "from tensorflow import keras\n",
    "\n",
    "class MyModel(keras.Model):    \n",
    "    def __init__(self):\n",
    "        super(MyModel, self).__init__()\n",
    "        \n",
    "        self.conv1A = Conv2D(64, (3, 3))\n",
    "        self.act1A = Activation(\"relu\")\n",
    "        self.pool1 = MaxPooling2D(pool_size=(2, 2))\n",
    "        \n",
    "        self.conv2A = Conv2D(64, (3, 3))\n",
    "        self.act2A = Activation(\"relu\")\n",
    "        self.pool2 = MaxPooling2D(pool_size=(2, 2))\n",
    "        \n",
    "        self.flatten = Flatten()\n",
    "        self.dense1 = Dense(128)\n",
    "        self.act3 = Activation(\"relu\")\n",
    "        self.dense2 = Dense(10)\n",
    "        self.softmax = Activation(\"softmax\")\n",
    "    \n",
    "    def call(self,inputs):        \n",
    "        x = self.conv1A(inputs)\n",
    "        x = self.act1A(x)\n",
    "        x = self.pool1(x)        \n",
    "        x = self.conv2A(x)\n",
    "        x = self.act2A(x)\n",
    "        x = self.pool2(x)        \n",
    "        x = self.flatten(x)\n",
    "        x = self.dense1(x)\n",
    "        x = self.act3(x)\n",
    "        x = self.dense2(x)\n",
    "        x = self.softmax(x)\n",
    "        return x;\n",
    "def train_mnist_conv():\n",
    "    # Please write your code only where you are indicated.\n",
    "    # please do not remove model fitting inline comments.\n",
    "\n",
    "    class myCallback(tf.keras.callbacks.Callback):\n",
    "        def on_epoch_end(self, epochs, logs={}):\n",
    "            if(logs.get('accuracy')>0.90):\n",
    "                print(\"\\nReached 99.8% accuracy so cancelling training!\")\n",
    "                self.model.stop_training = True\n",
    "\n",
    "    mnist = tf.keras.datasets.mnist\n",
    "    (training_images, training_labels), (test_images, test_labels) = mnist.load_data()\n",
    "    \n",
    "    training_images = training_images.reshape(60000,28,28,1)\n",
    "    training_images = training_images/255\n",
    "    \n",
    "    test_images = test_images.reshape(10000,28,28,1)\n",
    "    test_images = test_images/255\n",
    "    callbacks = myCallback()\n",
    "\n",
    "    model = MyModel()\n",
    "\n",
    "    model.compile(optimizer='adam', loss='sparse_categorical_crossentropy', metrics=['accuracy'])\n",
    "    #model.summary()\n",
    "    # model fitting\n",
    "    history = model.fit(\n",
    "        training_images,training_labels,epochs=20,callbacks=[callbacks]\n",
    "    )\n",
    "    # model fitting\n",
    "    return history.epoch, history.history['accuracy'][-1]    "
   ]
  },
  {
   "cell_type": "code",
   "execution_count": null,
   "metadata": {},
   "outputs": [
    {
     "name": "stdout",
     "output_type": "stream",
     "text": [
      "Train on 60000 samples\n",
      "Epoch 1/20\n",
      "10752/60000 [====>.........................] - ETA: 1:14 - loss: 0.3401 - accuracy: 0.8953"
     ]
    }
   ],
   "source": [
    "train_mnist_conv()"
   ]
  },
  {
   "cell_type": "code",
   "execution_count": null,
   "metadata": {},
   "outputs": [],
   "source": []
  }
 ],
 "metadata": {
  "kernelspec": {
   "display_name": "Python 3",
   "language": "python",
   "name": "python3"
  },
  "language_info": {
   "codemirror_mode": {
    "name": "ipython",
    "version": 3
   },
   "file_extension": ".py",
   "mimetype": "text/x-python",
   "name": "python",
   "nbconvert_exporter": "python",
   "pygments_lexer": "ipython3",
   "version": "3.7.4"
  }
 },
 "nbformat": 4,
 "nbformat_minor": 2
}
